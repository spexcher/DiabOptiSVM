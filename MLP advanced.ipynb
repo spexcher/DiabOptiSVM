{
 "cells": [
  {
   "cell_type": "code",
   "execution_count": 5,
   "id": "24fe735f-9c83-43c4-8a77-a424fca57f5f",
   "metadata": {},
   "outputs": [
    {
     "name": "stdout",
     "output_type": "stream",
     "text": [
      "Best parameters for MLP: {'activation': 'tanh', 'hidden_layer_sizes': (100,), 'learning_rate': 'constant', 'solver': 'adam'}\n",
      "Best accuracy for MLP: 0.6805418719211822\n",
      "MLP Classifier Accuracy: 0.625\n",
      "              precision    recall  f1-score   support\n",
      "\n",
      "           1       0.60      0.43      0.50         7\n",
      "           2       0.64      0.78      0.70         9\n",
      "\n",
      "    accuracy                           0.62        16\n",
      "   macro avg       0.62      0.60      0.60        16\n",
      "weighted avg       0.62      0.62      0.61        16\n",
      "\n",
      "[[3 4]\n",
      " [2 7]]\n"
     ]
    },
    {
     "data": {
      "image/png": "[encoded data removed]",
      "text/plain": [
       "<Figure size 1000x600 with 2 Axes>"
      ]
     },
     "metadata": {},
     "output_type": "display_data"
    }
   ],
   "source": [
    "from sklearn.neural_network import MLPClassifier\n",
    "from sklearn.model_selection import GridSearchCV\n",
    "import pandas as pd\n",
    "import numpy as np\n",
    "from sklearn.preprocessing import StandardScaler\n",
    "from sklearn.model_selection import train_test_split, cross_val_score\n",
    "from sklearn.metrics import accuracy_score, classification_report, confusion_matrix\n",
    "from sklearn.ensemble import RandomForestClassifier\n",
    "import matplotlib.pyplot as plt\n",
    "import seaborn as sns\n",
    "try:\n",
    "    df = pd.read_excel('Featured_Data.xlsx')\n",
    "except FileNotFoundError:\n",
    "    print(\"File not found. Please check the file path.\")\n",
    "    exit()\n",
    "except Exception as e:\n",
    "    print(f\"An error occurred: {e}\")\n",
    "    exit()\n",
    "\n",
    "# Splitting the data\n",
    "X = df.iloc[:, 1:7].values\n",
    "y = df.iloc[:, 7].values\n",
    "\n",
    "X_train, X_test, Y_train, Y_test = train_test_split(X, y, test_size=0.1, random_state=7, stratify=y)\n",
    "\n",
    "param_grid = {\n",
    "    'hidden_layer_sizes': [(50,50), (100,), (100,100)],\n",
    "    'activation': ['tanh', 'relu'],\n",
    "    'solver': ['sgd', 'adam'],\n",
    "    'learning_rate': ['constant', 'adaptive']\n",
    "}\n",
    "\n",
    "#grid_search = GridSearchCV(MLPClassifier(random_state=42, max_iter=300), param_grid, cv=5, scoring='accuracy')\n",
    "grid_search = GridSearchCV(MLPClassifier(random_state=42, max_iter=10000), param_grid, cv=5, scoring='accuracy')\n",
    "\n",
    "grid_search.fit(X_train, Y_train)\n",
    "\n",
    "print(f\"Best parameters for MLP: {grid_search.best_params_}\")\n",
    "print(f\"Best accuracy for MLP: {grid_search.best_score_}\")\n",
    "\n",
    "best_mlp = grid_search.best_estimator_\n",
    "y_pred = best_mlp.predict(X_test)\n",
    "\n",
    "print(f\"MLP Classifier Accuracy: {accuracy_score(Y_test, y_pred)}\")\n",
    "print(classification_report(Y_test, y_pred))\n",
    "print(confusion_matrix(Y_test, y_pred))\n",
    "\n",
    "# Confusion Matrix Plot\n",
    "plt.figure(figsize=(10, 6))\n",
    "plt.title('Confusion Matrix')\n",
    "cm = confusion_matrix(Y_test, y_pred)\n",
    "\n",
    "sns.heatmap(cm, annot=True, fmt='d', cmap='Blues', annot_kws={\"size\": 12, \"color\": \"black\"},\n",
    "            cbar_kws={\"shrink\": 0.8})\n",
    "\n",
    "for i in range(cm.shape[0]):\n",
    "    for j in range(cm.shape[1]):\n",
    "        color = 'white' if cm[i, j] > cm.max() / 2 else 'black'\n",
    "        plt.text(j + 0.5, i + 0.5, cm[i, j], horizontalalignment='center', \n",
    "                 verticalalignment='center', color=color)\n",
    "\n",
    "plt.xlabel('Predicted')\n",
    "plt.ylabel('Actual')\n",
    "plt.show()\n"
   ]
  },
  {
   "cell_type": "code",
   "execution_count": null,
   "id": "d0fb9990-7ac3-4c00-885c-138bcd685d79",
   "metadata": {},
   "outputs": [],
   "source": []
  }
 ],
 "metadata": {
  "kernelspec": {
   "display_name": "Python 3 (ipykernel)",
   "language": "python",
   "name": "python3"
  },
  "language_info": {
   "codemirror_mode": {
    "name": "ipython",
    "version": 3
   },
   "file_extension": ".py",
   "mimetype": "text/x-python",
   "name": "python",
   "nbconvert_exporter": "python",
   "pygments_lexer": "ipython3",
   "version": "3.11.7"
  }
 },
 "nbformat": 4,
 "nbformat_minor": 5
}
